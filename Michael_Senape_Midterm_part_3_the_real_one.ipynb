{
  "nbformat": 4,
  "nbformat_minor": 0,
  "metadata": {
    "colab": {
      "provenance": [],
      "include_colab_link": true
    },
    "kernelspec": {
      "name": "python3",
      "display_name": "Python 3"
    },
    "language_info": {
      "name": "python"
    }
  },
  "cells": [
    {
      "cell_type": "markdown",
      "metadata": {
        "id": "view-in-github",
        "colab_type": "text"
      },
      "source": [
        "<a href=\"https://colab.research.google.com/github/mikesenape/Midterm-Exam/blob/main/Michael_Senape_Midterm_part_3_the_real_one.ipynb\" target=\"_parent\"><img src=\"https://colab.research.google.com/assets/colab-badge.svg\" alt=\"Open In Colab\"/></a>"
      ]
    },
    {
      "cell_type": "code",
      "execution_count": 1,
      "metadata": {
        "id": "qo4orOh1QzrR"
      },
      "outputs": [],
      "source": [
        "import numpy as np\n",
        "import matplotlib.pyplot as plt"
      ]
    },
    {
      "cell_type": "markdown",
      "source": [
        "imported numpy and matplotlib.pyplot"
      ],
      "metadata": {
        "id": "HgD7_x2n5fbB"
      }
    },
    {
      "cell_type": "code",
      "source": [
        "X = np.array([12,9,20,7,2])    \n",
        "Y = np.array([38,28,63,22,6])  "
      ],
      "metadata": {
        "id": "eDdfNy1YQ5VO"
      },
      "execution_count": 2,
      "outputs": []
    },
    {
      "cell_type": "markdown",
      "source": [
        "use our data to make a array for X and another array with our data for Y"
      ],
      "metadata": {
        "id": "VLCHZsMf5kzr"
      }
    },
    {
      "cell_type": "code",
      "source": [
        "plt.plot(X,Y,'g.')"
      ],
      "metadata": {
        "id": "bwEzkndjRAw-",
        "colab": {
          "base_uri": "https://localhost:8080/",
          "height": 283
        },
        "outputId": "6f8a6df1-888f-4f98-e1a7-d82fa05c211e"
      },
      "execution_count": 3,
      "outputs": [
        {
          "output_type": "execute_result",
          "data": {
            "text/plain": [
              "[<matplotlib.lines.Line2D at 0x7f2fbd15b650>]"
            ]
          },
          "metadata": {},
          "execution_count": 3
        },
        {
          "output_type": "display_data",
          "data": {
            "text/plain": [
              "<Figure size 432x288 with 1 Axes>"
            ],
            "image/png": "[encoded data removed]"
          },
          "metadata": {
            "needs_background": "light"
          }
        }
      ]
    },
    {
      "cell_type": "markdown",
      "source": [
        "1. used plt.plot to plot our data and inserted X,Y\n",
        "2. used 'g.' to make points in green in font"
      ],
      "metadata": {
        "id": "lN82_PNv6ewA"
      }
    },
    {
      "cell_type": "code",
      "source": [
        "m_guess = 0\n",
        "b_guess = 0 "
      ],
      "metadata": {
        "id": "8pUDOa2bRYWY"
      },
      "execution_count": 4,
      "outputs": []
    },
    {
      "cell_type": "markdown",
      "source": [
        "1. use _guess to make a guess about the data \n",
        "2. use m and b to give different guess values"
      ],
      "metadata": {
        "id": "_TUMPBfY6_r4"
      }
    },
    {
      "cell_type": "markdown",
      "source": [
        "$y=mx+b$"
      ],
      "metadata": {
        "id": "9pkUPkbzSwtL"
      }
    },
    {
      "cell_type": "markdown",
      "source": [
        "m and b are  chosen to represent guesses in the universal equation above"
      ],
      "metadata": {
        "id": "1dZ94gAd7mDo"
      }
    },
    {
      "cell_type": "code",
      "source": [
        "m_guess * X + b_guess"
      ],
      "metadata": {
        "colab": {
          "base_uri": "https://localhost:8080/"
        },
        "id": "ThmiCA2ISHIZ",
        "outputId": "62e5b4b8-5092-4e09-91de-c22825697805"
      },
      "execution_count": 5,
      "outputs": [
        {
          "output_type": "execute_result",
          "data": {
            "text/plain": [
              "array([0, 0, 0, 0, 0])"
            ]
          },
          "metadata": {},
          "execution_count": 5
        }
      ]
    },
    {
      "cell_type": "markdown",
      "source": [
        "insert m_guess and b_guess into the equation to create an array of our equation\n",
        "the X is used to input a number from the array"
      ],
      "metadata": {
        "id": "_QHNe9HP7woR"
      }
    },
    {
      "cell_type": "code",
      "source": [
        "y_guess = m_guess * X + b_guess"
      ],
      "metadata": {
        "id": "ndLRAbo0SMlI"
      },
      "execution_count": 6,
      "outputs": []
    },
    {
      "cell_type": "markdown",
      "source": [
        "insert y_guess to equal the sum of the equation"
      ],
      "metadata": {
        "id": "Gsz7y_g9GzIE"
      }
    },
    {
      "cell_type": "code",
      "source": [
        "y_guess - Y"
      ],
      "metadata": {
        "id": "tcznOFlBS_r6",
        "outputId": "8da87454-1795-45d6-fe53-b247d1df0d5d",
        "colab": {
          "base_uri": "https://localhost:8080/"
        }
      },
      "execution_count": 7,
      "outputs": [
        {
          "output_type": "execute_result",
          "data": {
            "text/plain": [
              "array([-38, -28, -63, -22,  -6])"
            ]
          },
          "metadata": {},
          "execution_count": 7
        }
      ]
    },
    {
      "cell_type": "markdown",
      "source": [
        "inserted y_guess - Y to show the array of a guess of the array minus the array"
      ],
      "metadata": {
        "id": "Qk55e5YbG5aN"
      }
    },
    {
      "cell_type": "code",
      "source": [],
      "metadata": {
        "id": "VN5yD5x_G5GC"
      },
      "execution_count": null,
      "outputs": []
    },
    {
      "cell_type": "code",
      "source": [
        "np.sum((y_guess - Y)**2)"
      ],
      "metadata": {
        "id": "tCDXN_yNTlHb",
        "colab": {
          "base_uri": "https://localhost:8080/"
        },
        "outputId": "b9515dad-6463-41b0-8d61-f155977c149c"
      },
      "execution_count": 8,
      "outputs": [
        {
          "output_type": "execute_result",
          "data": {
            "text/plain": [
              "6717"
            ]
          },
          "metadata": {},
          "execution_count": 8
        }
      ]
    },
    {
      "cell_type": "markdown",
      "source": [
        "used the np.sum function to find the sum of ((y_guess - Y)**2) \n",
        "**2 squares the function"
      ],
      "metadata": {
        "id": "Zgj4yEO8HIYh"
      }
    },
    {
      "cell_type": "code",
      "source": [
        "loss = np.sum((y_guess - Y)**2)"
      ],
      "metadata": {
        "id": "KqzZP0KBUQfr"
      },
      "execution_count": 9,
      "outputs": []
    },
    {
      "cell_type": "markdown",
      "source": [
        "gave loss the value of the \"np.sum((y_guess - Y)**2)\" equation"
      ],
      "metadata": {
        "id": "jsjdg3KzIDsl"
      }
    },
    {
      "cell_type": "code",
      "source": [
        "best_loss_so_far = 1000000000000\n",
        "m_best = 0 \n",
        "b_best = 0 \n",
        "for m_guess in np.linspace(-100,100,100):\n",
        "    for b_guess in np.linspace(-100,100,100):\n",
        "        \n",
        "        y_guess = m_guess * X + b_guess\n",
        "\n",
        "        loss = np.sum((y_guess - Y)**2)\n",
        "\n",
        "        if loss < best_loss_so_far:\n",
        "            m_best = m_guess\n",
        "            b_best = b_guess\n",
        "            best_loss_so_far = loss\n",
        "\n",
        "print(\"Found best fit:\")\n",
        "print(m_best,b_best,loss)"
      ],
      "metadata": {
        "colab": {
          "base_uri": "https://localhost:8080/"
        },
        "id": "dxa0jobTWMg8",
        "outputId": "8382861b-a53f-492e-9335-ab034a849df2"
      },
      "execution_count": 10,
      "outputs": [
        {
          "output_type": "stream",
          "name": "stdout",
          "text": [
            "Found best fit:\n",
            "3.030303030303031 1.0101010101010104 7378517.0\n"
          ]
        }
      ]
    },
    {
      "cell_type": "markdown",
      "source": [
        "1. made the best loss so far to  1000000000000 \n",
        "m_best = 0 and the b_best = 0\n",
        "2. for the m_guess in the linspace(-100,100,100)\n",
        "3. for b_guess in the linspace(-100,100,100)\n",
        "4. we also insert the y=mx+b equation as well to find the X\n",
        "5. we also insert the squared version of the y_guess - Y\n",
        "6. we then insert the if equation to find the best versions of the guess of m and the best fit for the b guess and for the third answer we use the best loss so far as the loss\n",
        "7.insert print \"found best fit\" to display the best fit for m, b and loss\n",
        "8. insert the print(m_best,b_best,loss) \n"
      ],
      "metadata": {
        "id": "nZTG0BArIUru"
      }
    },
    {
      "cell_type": "code",
      "source": [],
      "metadata": {
        "id": "6yu1KMv7WXy7"
      },
      "execution_count": 10,
      "outputs": []
    },
    {
      "cell_type": "markdown",
      "source": [],
      "metadata": {
        "id": "rnOqhoCaNrZ-"
      }
    },
    {
      "cell_type": "markdown",
      "source": [
        "#### Question 1:\n",
        "\n",
        "What do $m$ and $b$ represent in these equations?"
      ],
      "metadata": {
        "id": "9xIvwJhOuGDh"
      }
    },
    {
      "cell_type": "markdown",
      "source": [
        "m represents slope or diameter over circumference\n",
        "b represents the y-intercept \n",
        "they are both taken from y = mx + b "
      ],
      "metadata": {
        "id": "tlD8f3euNwEy"
      }
    },
    {
      "cell_type": "markdown",
      "source": [
        "#### Question 2:\n",
        "\n",
        "Guess what the correct values $m$ and $b$ should be."
      ],
      "metadata": {
        "id": "_7xl4z8kubLo"
      }
    },
    {
      "cell_type": "markdown",
      "source": [
        "i think that m is should have a value of 3.0 \n",
        "i think that b should have a value of 1.0"
      ],
      "metadata": {
        "id": "of3v5H93N0d8"
      }
    },
    {
      "cell_type": "markdown",
      "source": [
        "#### Question 3:\n",
        "\n",
        "Does it make sense to include $b$ in the parameters?"
      ],
      "metadata": {
        "id": "2yrRt2wMubSC"
      }
    },
    {
      "cell_type": "markdown",
      "source": [
        "yes it does because it is a vital part of the equation to receive the right values of our guesses and best fits"
      ],
      "metadata": {
        "id": "QqxmTUAyN4BJ"
      }
    },
    {
      "cell_type": "markdown",
      "source": [
        "## Bonus:\n",
        "\n",
        "These problems are extra credit. You may use any resources, but be sure to explain your code."
      ],
      "metadata": {
        "id": "_3LN79rPujMz"
      }
    },
    {
      "cell_type": "markdown",
      "source": [],
      "metadata": {
        "id": "Y0QEa2lsN8Yb"
      }
    },
    {
      "cell_type": "markdown",
      "source": [
        "#### Bonus 1: Plot the squared errors from your line of best fit"
      ],
      "metadata": {
        "id": "wk0Ox4nqvFcT"
      }
    },
    {
      "cell_type": "code",
      "source": [
        "plt.title(\"Fit Errors\")\n",
        "\n",
        "plt.xlabel(\"Diameter\")\n",
        "plt.ylabel(\"Squared Error\")\n",
        "\n",
        "squared_error = ...\n",
        "\n",
        "plt.plot(..., 'b.', label = \"Errors\")\n",
        "\n",
        "plt.legend();"
      ],
      "metadata": {
        "id": "O8IQn-B_vXAN"
      },
      "execution_count": null,
      "outputs": []
    },
    {
      "cell_type": "markdown",
      "source": [],
      "metadata": {
        "id": "xVcbrMefN_m9"
      }
    },
    {
      "cell_type": "markdown",
      "source": [
        "#### Bonus 2: Plot the errors as a histogram"
      ],
      "metadata": {
        "id": "ojVobjtBwK9o"
      }
    },
    {
      "cell_type": "code",
      "source": [
        "plt.title(\"Errors\")\n",
        "\n",
        "..."
      ],
      "metadata": {
        "id": "WJkR3s9kwujU"
      },
      "execution_count": null,
      "outputs": []
    },
    {
      "cell_type": "markdown",
      "source": [],
      "metadata": {
        "id": "oGsh78xtOLlf"
      }
    },
    {
      "cell_type": "markdown",
      "source": [
        "#### Bonus 3: Find the circle with the largest error. \n",
        "Hint: use np.max"
      ],
      "metadata": {
        "id": "qfDuImTvrF5V"
      }
    },
    {
      "cell_type": "code",
      "source": [
        "largest_error = ..."
      ],
      "metadata": {
        "id": "k7ShpKK6vWrH"
      },
      "execution_count": null,
      "outputs": []
    },
    {
      "cell_type": "markdown",
      "source": [],
      "metadata": {
        "id": "FnDgatxtOPEq"
      }
    },
    {
      "cell_type": "markdown",
      "source": [
        "#### Bonus 4: Remove the circles with the 2 largest errors and run the fit again.\n"
      ],
      "metadata": {
        "id": "oQCq4D4uwZ7I"
      }
    },
    {
      "cell_type": "code",
      "source": [
        "..."
      ],
      "metadata": {
        "id": "EjddA54wwKPY"
      },
      "execution_count": null,
      "outputs": []
    },
    {
      "cell_type": "markdown",
      "source": [],
      "metadata": {
        "id": "fvEtvUdIOZbq"
      }
    },
    {
      "cell_type": "markdown",
      "source": [
        "What is the difference in your error?"
      ],
      "metadata": {
        "id": "V2jyayR-yOvF"
      }
    },
    {
      "cell_type": "markdown",
      "source": [
        "#### Bonus 5: Find and explain a better method of fitting this data"
      ],
      "metadata": {
        "id": "1y-okVy_w22o"
      }
    }
  ]
}